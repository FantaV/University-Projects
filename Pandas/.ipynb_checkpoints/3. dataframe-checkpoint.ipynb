{
 "cells": [
  {
   "cell_type": "code",
   "execution_count": null,
   "id": "11154458-709e-4b92-9726-80e71aaa9ee9",
   "metadata": {},
   "outputs": [],
   "source": [
    "# 3. DATAFRAME "
   ]
  },
  {
   "cell_type": "code",
   "execution_count": 3,
   "id": "a073c7d2-c2fd-4559-aa6b-df1e987f7b7c",
   "metadata": {},
   "outputs": [
    {
     "name": "stdout",
     "output_type": "stream",
     "text": [
      "       Mesi  Giorni   Stagioni               Festività\n",
      "0   Gennaio      31    Inverno               Capodanno\n",
      "1  Febbraio      28    Inverno               Carnevale\n",
      "2     Marzo      31  Primavera       Festa della Donna\n",
      "3    Aprile      30  Primavera                  Pasqua\n",
      "4    Maggio      31     Estate  Festa della Repubblica\n"
     ]
    }
   ],
   "source": [
    "import pandas as pd \n",
    "\n",
    "# creazione dataset\n",
    "ds = {\n",
    "    'Mesi' : ['Gennaio', 'Febbraio', 'Marzo', 'Aprile', 'Maggio'],\n",
    "    'Giorni': [ 31, 28, 31, 30, 31],\n",
    "    'Stagioni': ['Inverno', 'Inverno', 'Primavera', 'Primavera', 'Estate'],\n",
    "    'Festività': ['Capodanno', 'Carnevale', 'Festa della Donna', 'Pasqua', 'Festa della Repubblica']\n",
    "}\n",
    "\n",
    "# creazione dataframe\n",
    "df = pd.DataFrame(ds)\n",
    "\n",
    "print(df)\n"
   ]
  },
  {
   "cell_type": "code",
   "execution_count": 4,
   "id": "c08d0667-29d7-4976-8085-07a067a4c63c",
   "metadata": {},
   "outputs": [
    {
     "name": "stdout",
     "output_type": "stream",
     "text": [
      "Mesi           Gennaio\n",
      "Giorni              31\n",
      "Stagioni       Inverno\n",
      "Festività    Capodanno\n",
      "Name: 0, dtype: object\n"
     ]
    }
   ],
   "source": [
    "# se volessimo accedere ad una colonna o riga specifica non possiamo usare df = pd.DataFrame(ds[0])\n",
    "\n",
    "# dobbiamo usare le formule LOC oppure ILOC (meglio spiegate nei paragrafi dedicati)\n",
    "\n",
    "print(df.loc[0])\n",
    "\n",
    "# oppure PIÙ INDICI\n",
    "\n",
    "#print(df.loc[[0,1]]) # essendo lista di indici (più di uno) utilizzare doppia parenseti quadra\n"
   ]
  },
  {
   "cell_type": "code",
   "execution_count": 15,
   "id": "02532276-131e-4141-a99d-ea2caa8c2758",
   "metadata": {},
   "outputs": [],
   "source": [
    "# anche qui possiamo utilizzare l'index per assegnare etichette diverse\n",
    "# IMPORTANTE: il numero di modifiche inserite deve essere uguale al nome dei valori"
   ]
  },
  {
   "cell_type": "code",
   "execution_count": null,
   "id": "04dc2e3e-3adb-46d5-b1fe-bf31378c26f3",
   "metadata": {},
   "outputs": [],
   "source": []
  }
 ],
 "metadata": {
  "kernelspec": {
   "display_name": "Python 3 (ipykernel)",
   "language": "python",
   "name": "python3"
  },
  "language_info": {
   "codemirror_mode": {
    "name": "ipython",
    "version": 3
   },
   "file_extension": ".py",
   "mimetype": "text/x-python",
   "name": "python",
   "nbconvert_exporter": "python",
   "pygments_lexer": "ipython3",
   "version": "3.11.7"
  }
 },
 "nbformat": 4,
 "nbformat_minor": 5
}
