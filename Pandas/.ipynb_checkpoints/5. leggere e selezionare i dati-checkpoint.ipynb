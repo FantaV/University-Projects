{
 "cells": [
  {
   "cell_type": "code",
   "execution_count": null,
   "id": "7d30f421-fadd-4795-b96c-d1d75d499c74",
   "metadata": {},
   "outputs": [],
   "source": [
    "# 5. LEGGERE E SELEZIONARE I DATI"
   ]
  },
  {
   "cell_type": "code",
   "execution_count": 2,
   "id": "4e2f0556-fda4-4ce5-bc16-debce2266238",
   "metadata": {},
   "outputs": [],
   "source": [
    "import pandas as pd "
   ]
  },
  {
   "cell_type": "code",
   "execution_count": 6,
   "id": "b5ba5142-bc72-4072-83af-f82200561568",
   "metadata": {},
   "outputs": [
    {
     "name": "stdout",
     "output_type": "stream",
     "text": [
      "         Date        Open        High         Low       Close   Adj Close  \\\n",
      "2  2023-07-12  276.329987  276.519989  271.459991  271.989990  271.989990   \n",
      "3  2023-07-13  274.589996  279.450012  270.600006  277.899994  277.899994   \n",
      "4  2023-07-14  277.010010  285.299988  276.309998  281.380005  281.380005   \n",
      "\n",
      "      Volume  \n",
      "2   95672100  \n",
      "3  112681500  \n",
      "4  119771100  \n"
     ]
    }
   ],
   "source": [
    "df = pd.read_csv(\"/Users/carlovilloresi/Documents/Trading/Dati Storici/Files/tsla.csv\")\n",
    "\n",
    "# prendere un indice unico non è possibile ma possiamo utilizzare lo SLICING\n",
    "print(df[2:5])"
   ]
  },
  {
   "cell_type": "code",
   "execution_count": 11,
   "id": "f775db24-c75f-41f1-9fb9-3d2e584739b5",
   "metadata": {
    "scrolled": true
   },
   "outputs": [
    {
     "name": "stdout",
     "output_type": "stream",
     "text": [
      "         Date        Open        High         Low       Close   Adj Close  \\\n",
      "0  2023-07-10  276.470001  277.519989  265.100006  269.609985  269.609985   \n",
      "1  2023-07-11  268.649994  270.899994  266.369995  269.790009  269.790009   \n",
      "2  2023-07-12  276.329987  276.519989  271.459991  271.989990  271.989990   \n",
      "3  2023-07-13  274.589996  279.450012  270.600006  277.899994  277.899994   \n",
      "4  2023-07-14  277.010010  285.299988  276.309998  281.380005  281.380005   \n",
      "\n",
      "      Volume  \n",
      "0  119425400  \n",
      "1   91972400  \n",
      "2   95672100  \n",
      "3  112681500  \n",
      "4  119771100  \n",
      "         Date        Open        High         Low       Close   Adj Close  \\\n",
      "0  2023-07-10  276.470001  277.519989  265.100006  269.609985  269.609985   \n",
      "1  2023-07-11  268.649994  270.899994  266.369995  269.790009  269.790009   \n",
      "2  2023-07-12  276.329987  276.519989  271.459991  271.989990  271.989990   \n",
      "3  2023-07-13  274.589996  279.450012  270.600006  277.899994  277.899994   \n",
      "4  2023-07-14  277.010010  285.299988  276.309998  281.380005  281.380005   \n",
      "5  2023-07-17  286.630005  292.230011  283.570007  290.380005  290.380005   \n",
      "6  2023-07-18  290.149994  295.260010  286.010010  293.339996  293.339996   \n",
      "7  2023-07-19  296.040009  299.290009  289.519989  291.260010  291.260010   \n",
      "8  2023-07-20  279.559998  280.929993  261.200012  262.899994  262.899994   \n",
      "9  2023-07-21  268.000000  268.000000  255.800003  260.019989  260.019989   \n",
      "\n",
      "      Volume  \n",
      "0  119425400  \n",
      "1   91972400  \n",
      "2   95672100  \n",
      "3  112681500  \n",
      "4  119771100  \n",
      "5  131569600  \n",
      "6  112434700  \n",
      "7  142355400  \n",
      "8  175158300  \n",
      "9  161050100  \n",
      "           Date        Open        High         Low       Close   Adj Close  \\\n",
      "247  2024-07-02  218.889999  231.300003  218.059998  231.259995  231.259995   \n",
      "248  2024-07-03  234.559998  248.350006  234.250000  246.389999  246.389999   \n",
      "249  2024-07-05  249.809998  252.369995  242.460007  251.520004  251.520004   \n",
      "250  2024-07-08  247.710007  259.440002  244.570007  252.940002  252.940002   \n",
      "251  2024-07-09  251.000000  265.609985  250.300003  262.329987  262.329987   \n",
      "\n",
      "        Volume  \n",
      "247  205047900  \n",
      "248  166561500  \n",
      "249  154501200  \n",
      "250  157219600  \n",
      "251  160210900  \n",
      "           Date        Open        High         Low       Close   Adj Close  \\\n",
      "237  2024-06-17  177.919998  188.809998  177.000000  187.440002  187.440002   \n",
      "238  2024-06-18  186.559998  187.199997  182.369995  184.860001  184.860001   \n",
      "239  2024-06-20  184.679993  185.210007  179.660004  181.570007  181.570007   \n",
      "240  2024-06-21  182.300003  183.949997  180.690002  183.009995  183.009995   \n",
      "241  2024-06-24  184.970001  188.800003  182.550003  182.580002  182.580002   \n",
      "242  2024-06-25  184.399994  187.970001  182.009995  187.350006  187.350006   \n",
      "243  2024-06-26  186.539993  197.759995  186.360001  196.369995  196.369995   \n",
      "244  2024-06-27  195.169998  198.720001  194.050003  197.419998  197.419998   \n",
      "245  2024-06-28  199.550003  203.199997  195.259995  197.880005  197.880005   \n",
      "246  2024-07-01  201.020004  213.229996  200.850006  209.860001  209.860001   \n",
      "247  2024-07-02  218.889999  231.300003  218.059998  231.259995  231.259995   \n",
      "248  2024-07-03  234.559998  248.350006  234.250000  246.389999  246.389999   \n",
      "249  2024-07-05  249.809998  252.369995  242.460007  251.520004  251.520004   \n",
      "250  2024-07-08  247.710007  259.440002  244.570007  252.940002  252.940002   \n",
      "251  2024-07-09  251.000000  265.609985  250.300003  262.329987  262.329987   \n",
      "\n",
      "        Volume  \n",
      "237  109786100  \n",
      "238   68982300  \n",
      "239   55893100  \n",
      "240   63029500  \n",
      "241   61992100  \n",
      "242   63678300  \n",
      "243   95737100  \n",
      "244   72746500  \n",
      "245   95438100  \n",
      "246  135691400  \n",
      "247  205047900  \n",
      "248  166561500  \n",
      "249  154501200  \n",
      "250  157219600  \n",
      "251  160210900  \n"
     ]
    }
   ],
   "source": [
    "# HEAD o TAIL \n",
    "\n",
    "print(df.head())\n",
    "print(df.head(10)) # prime 10 \n",
    "\n",
    "print(df.tail())\n",
    "print(df.tail(15)) # ultime 15"
   ]
  },
  {
   "cell_type": "code",
   "execution_count": 21,
   "id": "d1d0850a-0b63-40b6-9265-80ba34f5b109",
   "metadata": {},
   "outputs": [
    {
     "name": "stdout",
     "output_type": "stream",
     "text": [
      "0      119425400\n",
      "1       91972400\n",
      "2       95672100\n",
      "3      112681500\n",
      "4      119771100\n",
      "         ...    \n",
      "247    205047900\n",
      "248    166561500\n",
      "249    154501200\n",
      "250    157219600\n",
      "251    160210900\n",
      "Name: Volume, Length: 252, dtype: int64\n",
      "2     95672100\n",
      "3    112681500\n",
      "4    119771100\n",
      "Name: Volume, dtype: int64\n",
      "0    119425400\n",
      "1     91972400\n",
      "2     95672100\n",
      "Name: Volume, dtype: int64\n"
     ]
    }
   ],
   "source": [
    "# prendere una sola colonna \n",
    "\n",
    "print(df['Volume'])\n",
    "\n",
    "print(df['Volume'][2:5]) # con slicing da 2 a 5 \n",
    "\n",
    "print(df['Volume'].head(3)) # con il metodo head delle prime 3 righe"
   ]
  },
  {
   "cell_type": "code",
   "execution_count": 25,
   "id": "5a675ca5-5716-437e-ac50-03b4c7d7e15f",
   "metadata": {},
   "outputs": [
    {
     "name": "stdout",
     "output_type": "stream",
     "text": [
      "      Volume        High\n",
      "0  119425400  277.519989\n",
      "1   91972400  270.899994\n",
      "2   95672100  276.519989\n",
      "       Volume        High         Low\n",
      "8   175158300  280.929993  261.200012\n",
      "9   161050100  268.000000  255.800003\n",
      "10  136508500  269.850006  254.119995\n",
      "11  112757300  272.899994  265.000000\n",
      "12   95856200  268.040009  261.750000\n",
      "13  103697300  269.130005  255.300003\n"
     ]
    }
   ],
   "source": [
    "# prendere PIÙ colonne\n",
    "\n",
    "# per prendere più colonne dobbiamo CREARE UN ARRAY DI COLONNE \n",
    "\n",
    "print(df[['Volume', 'High']].head(3))\n",
    "\n",
    "print(df[['Volume', 'High', 'Low']][8:14]) # con slicing "
   ]
  },
  {
   "cell_type": "code",
   "execution_count": 32,
   "id": "f4ef7e38-919b-48c8-bb10-4e512ddd81c8",
   "metadata": {},
   "outputs": [
    {
     "name": "stdout",
     "output_type": "stream",
     "text": [
      "Date         2023-07-10\n",
      "Open         276.470001\n",
      "High         277.519989\n",
      "Low          265.100006\n",
      "Close        269.609985\n",
      "Adj Close    269.609985\n",
      "Volume        119425400\n",
      "Name: 0, dtype: object\n",
      "276.329987\n"
     ]
    }
   ],
   "source": [
    "# INTRODUZIONE LOC e ILOC\n",
    "\n",
    "print(df.loc[0]) # verrà presa la prima riga\n",
    "\n",
    "print(df.loc[2, 'Open']) # LOC CHIEDE IL NOME COLONNA quindi INDICE RIGA + NOME COLONNA "
   ]
  },
  {
   "cell_type": "code",
   "execution_count": 33,
   "id": "22c1be2f-b75c-4554-8433-e5ac7a6f0a44",
   "metadata": {},
   "outputs": [
    {
     "name": "stdout",
     "output_type": "stream",
     "text": [
      "277.519989\n"
     ]
    }
   ],
   "source": [
    "print(df.iloc[0, 2]) # ILOC CHIEDE L'INDICE COLONNA quindi INDICE RIGA E INDICE COLONNA "
   ]
  },
  {
   "cell_type": "code",
   "execution_count": null,
   "id": "cbf866b8-a925-4b50-809a-b72b6f2f13d8",
   "metadata": {},
   "outputs": [],
   "source": [
    "# LOC: localization \n",
    "\n",
    "# ILOC: index localization "
   ]
  }
 ],
 "metadata": {
  "kernelspec": {
   "display_name": "Python 3 (ipykernel)",
   "language": "python",
   "name": "python3"
  },
  "language_info": {
   "codemirror_mode": {
    "name": "ipython",
    "version": 3
   },
   "file_extension": ".py",
   "mimetype": "text/x-python",
   "name": "python",
   "nbconvert_exporter": "python",
   "pygments_lexer": "ipython3",
   "version": "3.11.7"
  }
 },
 "nbformat": 4,
 "nbformat_minor": 5
}
