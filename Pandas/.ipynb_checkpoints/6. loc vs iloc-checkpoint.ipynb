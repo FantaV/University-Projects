{
 "cells": [
  {
   "cell_type": "code",
   "execution_count": null,
   "id": "73819735-a6ab-40b8-b832-02655ef07995",
   "metadata": {},
   "outputs": [],
   "source": [
    "# 6. LOC VS ILOC"
   ]
  },
  {
   "cell_type": "code",
   "execution_count": null,
   "id": "5a3edc24-b776-48cb-a09b-e625998b9c0c",
   "metadata": {},
   "outputs": [],
   "source": [
    "# LOC: localization \n",
    "\n",
    "# ILOC: index localization"
   ]
  },
  {
   "cell_type": "code",
   "execution_count": 1,
   "id": "4e327f18-5bc1-4431-8cad-02f473665d5b",
   "metadata": {},
   "outputs": [],
   "source": [
    "# Localizzare vuol dire poter prendere una cella specifica, o un insieme di celle: una colonna, una riga.\n",
    "\n",
    "# Ma anche una porzione di colonna, una parte di riga ecc.."
   ]
  },
  {
   "cell_type": "code",
   "execution_count": null,
   "id": "6c5d2541-fff7-4cb8-8755-759e60a63681",
   "metadata": {},
   "outputs": [],
   "source": [
    "# La principale differenza risiede nel metodo di ottenimento dei dati che ci servono\n",
    "\n",
    "# LOC: richiede indice riga + NOME colonna\n",
    "\n",
    "# ILOC: richiede indice riga + INDICE colonna"
   ]
  },
  {
   "cell_type": "code",
   "execution_count": null,
   "id": "e1291dfd-068b-4cfa-95f3-df13ce0a8539",
   "metadata": {},
   "outputs": [],
   "source": [
    "import pandas as pd \n"
   ]
  },
  {
   "cell_type": "code",
   "execution_count": 19,
   "id": "609d59cf-54a3-4d4d-a58b-bb50e0d75f93",
   "metadata": {},
   "outputs": [
    {
     "name": "stdout",
     "output_type": "stream",
     "text": [
      "Date         2023-07-20\n",
      "Open         279.559998\n",
      "High         280.929993\n",
      "Close        262.899994\n",
      "Adj Close    262.899994\n",
      "Volume        175158300\n",
      "Name: 261.200012, dtype: object\n"
     ]
    }
   ],
   "source": [
    "\n",
    "df = pd.read_csv(\"tsla.csv\", index_col=1)\n",
    "\n",
    "# print(df.loc['268.649994']) non capisco perché non funziona\n",
    "\n",
    "print(df.iloc[8]) # funziona correttamente"
   ]
  },
  {
   "cell_type": "code",
   "execution_count": 26,
   "id": "31f84676-9849-45a1-a54d-d3ba2ebef18d",
   "metadata": {},
   "outputs": [
    {
     "name": "stdout",
     "output_type": "stream",
     "text": [
      "280.929993\n"
     ]
    }
   ],
   "source": [
    "# Prendere una cella specifica \n",
    "\n",
    "print(df.iloc[8, 2]) # il 2 indica la colonna. \n",
    "\n",
    "# ATTENZIONE: con index col= numero, le colonne vengono droppate quindi i conteggi cominciano da lì e non dall'inizio"
   ]
  },
  {
   "cell_type": "code",
   "execution_count": 36,
   "id": "fcd74001-d25a-49be-b517-661516d454cb",
   "metadata": {},
   "outputs": [
    {
     "name": "stdout",
     "output_type": "stream",
     "text": [
      "                  Date        Open        High       Close   Adj Close  \\\n",
      "Low                                                                      \n",
      "271.459991  2023-07-12  276.329987  276.519989  271.989990  271.989990   \n",
      "270.600006  2023-07-13  274.589996  279.450012  277.899994  277.899994   \n",
      "276.309998  2023-07-14  277.010010  285.299988  281.380005  281.380005   \n",
      "\n",
      "               Volume  \n",
      "Low                    \n",
      "271.459991   95672100  \n",
      "270.600006  112681500  \n",
      "276.309998  119771100  \n",
      "                  Date        Open        High       Close   Adj Close  \\\n",
      "Low                                                                      \n",
      "266.369995  2023-07-11  268.649994  270.899994  269.790009  269.790009   \n",
      "271.459991  2023-07-12  276.329987  276.519989  271.989990  271.989990   \n",
      "270.600006  2023-07-13  274.589996  279.450012  277.899994  277.899994   \n",
      "276.309998  2023-07-14  277.010010  285.299988  281.380005  281.380005   \n",
      "\n",
      "               Volume  \n",
      "Low                    \n",
      "266.369995   91972400  \n",
      "271.459991   95672100  \n",
      "270.600006  112681500  \n",
      "276.309998  119771100  \n"
     ]
    }
   ],
   "source": [
    "# Prendere più righe insieme\n",
    "\n",
    "# LOC: funziona ma con i nomi al posto degli indici\n",
    "\n",
    "print(df.loc[271.459991: 276.309998]) # con loc l'indice finale viene PRESO a differenza del classico slicing\n",
    "\n",
    "# ILOC: si usa lo SLICING\n",
    "\n",
    "print(df.iloc[1:5])"
   ]
  },
  {
   "cell_type": "code",
   "execution_count": 47,
   "id": "277e3fce-a6e7-4c3b-bff5-2c9a9763f8da",
   "metadata": {},
   "outputs": [
    {
     "name": "stdout",
     "output_type": "stream",
     "text": [
      "                  High       Close     Volume\n",
      "Low                                          \n",
      "265.100006  277.519989  269.609985  119425400\n",
      "266.369995  270.899994  269.790009   91972400\n",
      "271.459991  276.519989  271.989990   95672100\n",
      "270.600006  279.450012  277.899994  112681500\n",
      "276.309998  285.299988  281.380005  119771100\n",
      "...                ...         ...        ...\n",
      "218.059998  231.300003  231.259995  205047900\n",
      "234.250000  248.350006  246.389999  166561500\n",
      "242.460007  252.369995  251.520004  154501200\n",
      "244.570007  259.440002  252.940002  157219600\n",
      "250.300003  265.609985  262.329987  160210900\n",
      "\n",
      "[252 rows x 3 columns]\n",
      "                  High   Adj Close     Volume\n",
      "Low                                          \n",
      "271.459991  276.519989  271.989990   95672100\n",
      "270.600006  279.450012  277.899994  112681500\n",
      "276.309998  285.299988  281.380005  119771100\n",
      "283.570007  292.230011  290.380005  131569600\n",
      "286.010010  295.260010  293.339996  112434700\n"
     ]
    }
   ],
   "source": [
    "# Prendere più colonne insieme\n",
    "\n",
    "#loc\n",
    "print(df.loc[:, ['High', 'Close', 'Volume']]) # tutte le righe più le colonne indicate\n",
    "\n",
    "#iloc\n",
    "print(df.iloc[2:7, [2, 4, 5]])"
   ]
  },
  {
   "cell_type": "code",
   "execution_count": null,
   "id": "4920d929-f09d-48cb-8d6e-3b4e73bd8d3b",
   "metadata": {},
   "outputs": [],
   "source": []
  }
 ],
 "metadata": {
  "kernelspec": {
   "display_name": "Python 3 (ipykernel)",
   "language": "python",
   "name": "python3"
  },
  "language_info": {
   "codemirror_mode": {
    "name": "ipython",
    "version": 3
   },
   "file_extension": ".py",
   "mimetype": "text/x-python",
   "name": "python",
   "nbconvert_exporter": "python",
   "pygments_lexer": "ipython3",
   "version": "3.11.7"
  }
 },
 "nbformat": 4,
 "nbformat_minor": 5
}
