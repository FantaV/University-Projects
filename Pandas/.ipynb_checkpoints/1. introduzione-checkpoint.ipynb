{
 "cells": [
  {
   "cell_type": "code",
   "execution_count": 2,
   "id": "daefdbf5-0a93-485d-93f4-524552a8beee",
   "metadata": {},
   "outputs": [
    {
     "name": "stdout",
     "output_type": "stream",
     "text": [
      "       Mesi  Giorni\n",
      "0   Gennaio      31\n",
      "1  Febbraio      28\n",
      "2     Marzo      31\n",
      "3    Aprile      30\n",
      "4    Maggio      31\n"
     ]
    }
   ],
   "source": [
    "# 1. INTRODUZIONE\n",
    "\n",
    "import pandas as pd\n",
    "\n",
    "# creazione dataset\n",
    "ds = {\n",
    "    'Mesi' : ['Gennaio', 'Febbraio', 'Marzo', 'Aprile', 'Maggio'],\n",
    "    'Giorni': [ 31, 28, 31, 30, 31]\n",
    "}\n",
    "\n",
    "# creazione dataframe\n",
    "df = pd.DataFrame(ds)\n",
    "\n",
    "print(df)"
   ]
  },
  {
   "cell_type": "code",
   "execution_count": null,
   "id": "725a7993-8a79-4358-9633-f795a98100c4",
   "metadata": {},
   "outputs": [],
   "source": []
  }
 ],
 "metadata": {
  "kernelspec": {
   "display_name": "Python 3 (ipykernel)",
   "language": "python",
   "name": "python3"
  },
  "language_info": {
   "codemirror_mode": {
    "name": "ipython",
    "version": 3
   },
   "file_extension": ".py",
   "mimetype": "text/x-python",
   "name": "python",
   "nbconvert_exporter": "python",
   "pygments_lexer": "ipython3",
   "version": "3.11.7"
  }
 },
 "nbformat": 4,
 "nbformat_minor": 5
}
