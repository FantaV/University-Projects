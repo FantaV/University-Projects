{
 "cells": [
  {
   "cell_type": "code",
   "execution_count": null,
   "id": "c4d7db4c-1888-4716-9703-898afc25a079",
   "metadata": {},
   "outputs": [],
   "source": [
    "# 2. SERIES DI DATI \n",
    "\n",
    "# In pandas una serie di dati viene espressa e sono COLONNE. Anche se scritte in righe vengono mnandate a schermo come col.\n",
    "\n",
    "# Il DataFrame è l'INSIEME DELLE COLONNE "
   ]
  },
  {
   "cell_type": "code",
   "execution_count": 14,
   "id": "4e5ed1e5-637e-4f8b-a3d8-32654c51d167",
   "metadata": {},
   "outputs": [
    {
     "name": "stdout",
     "output_type": "stream",
     "text": [
      "0     5\n",
      "1    10\n",
      "2    15\n",
      "3    20\n",
      "4    25\n",
      "dtype: int64\n"
     ]
    }
   ],
   "source": [
    "import pandas as pd\n",
    "\n",
    "# creazione serie\n",
    "ds = [5, 10, 15, 20 ,25]\n",
    "\n",
    "# conversione in serie dati di pandas \n",
    "pandaseries = pd.Series(ds)\n",
    "\n",
    "print(pandaseries)"
   ]
  },
  {
   "cell_type": "code",
   "execution_count": 13,
   "id": "5462a2a7-6f85-4c24-a5df-1e775f3aa59b",
   "metadata": {},
   "outputs": [
    {
     "name": "stdout",
     "output_type": "stream",
     "text": [
      "5\n"
     ]
    }
   ],
   "source": [
    "# prendere l'indice di un elemento\n",
    "print(pandaseries[0])"
   ]
  },
  {
   "cell_type": "code",
   "execution_count": 18,
   "id": "6d049c78-8690-49bc-870b-f2f29b07f234",
   "metadata": {},
   "outputs": [
    {
     "name": "stdout",
     "output_type": "stream",
     "text": [
      "PerUno         5\n",
      "PerDue        10\n",
      "PerTre        15\n",
      "PerQuattro    20\n",
      "PerCinque     25\n",
      "dtype: int64\n",
      "10\n"
     ]
    }
   ],
   "source": [
    "# aggiungere delle LABEL (etichette)\n",
    "\n",
    "# su jupyter già presente, ma su python normale bisogna fare: FROM OPERATOR IMPORT INDEX\n",
    "\n",
    "pandaseries = pd.Series(ds, index= ['PerUno', 'PerDue', 'PerTre', 'PerQuattro', 'PerCinque'])\n",
    "\n",
    "print(pandaseries)\n",
    "print(pandaseries['PerDue']) # prendere il dato in base all'etichetta"
   ]
  },
  {
   "cell_type": "code",
   "execution_count": 19,
   "id": "8e918e14-2f30-4703-82ae-80b9e1c516c5",
   "metadata": {},
   "outputs": [
    {
     "name": "stdout",
     "output_type": "stream",
     "text": [
      "x     5\n",
      "y    10\n",
      "z    15\n",
      "w    20\n",
      "j    25\n",
      "dtype: int64\n"
     ]
    }
   ],
   "source": [
    "# creare una serie direttamente da un DICT \n",
    "\n",
    "ds = {'x': 5, 'y': 10, 'z': 15, 'w': 20 , 'j':25}\n",
    "\n",
    "pandaseries = pd.Series(ds)\n",
    "\n",
    "print(pandaseries)"
   ]
  },
  {
   "cell_type": "code",
   "execution_count": 23,
   "id": "8eeea42f-461b-4c66-b7cb-c3de6b51e94b",
   "metadata": {},
   "outputs": [
    {
     "name": "stdout",
     "output_type": "stream",
     "text": [
      "giugno     NaN\n",
      "y         10.0\n",
      "dtype: float64\n"
     ]
    }
   ],
   "source": [
    "# se volessimo prendere solo dei valori possiamo ancora usare INDEX, e sempre index PER ASSEGNARE ALTRo TAG\n",
    "\n",
    "ds = {'x': 5, 'y': 10, 'z': 15, 'w': 20 , 'j':25}\n",
    "\n",
    "pandaseries = pd.Series(ds, index=['x','y'])\n",
    "\n",
    "print(pandaseries)"
   ]
  },
  {
   "cell_type": "code",
   "execution_count": null,
   "id": "c2872315-b350-4d74-b7ce-bc588a8050e8",
   "metadata": {},
   "outputs": [],
   "source": []
  }
 ],
 "metadata": {
  "kernelspec": {
   "display_name": "Python 3 (ipykernel)",
   "language": "python",
   "name": "python3"
  },
  "language_info": {
   "codemirror_mode": {
    "name": "ipython",
    "version": 3
   },
   "file_extension": ".py",
   "mimetype": "text/x-python",
   "name": "python",
   "nbconvert_exporter": "python",
   "pygments_lexer": "ipython3",
   "version": "3.11.7"
  }
 },
 "nbformat": 4,
 "nbformat_minor": 5
}
