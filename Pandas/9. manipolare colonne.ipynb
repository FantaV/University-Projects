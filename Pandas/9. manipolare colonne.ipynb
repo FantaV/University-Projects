{
 "cells": [
  {
   "cell_type": "code",
   "execution_count": 6,
   "metadata": {},
   "outputs": [],
   "source": [
    "# MANIPOLARE COLONNNE \n",
    "\n",
    "import pandas as pd"
   ]
  },
  {
   "cell_type": "code",
   "execution_count": 20,
   "metadata": {},
   "outputs": [
    {
     "name": "stdout",
     "output_type": "stream",
     "text": [
      "   #                   Name Type 1  Type 2  Total  HP  Attack  Defense  \\\n",
      "0  1              Bulbasaur  Grass  Poison    318  45      49       49   \n",
      "1  2                Ivysaur  Grass  Poison    405  60      62       63   \n",
      "2  3               Venusaur  Grass  Poison    525  80      82       83   \n",
      "3  3  VenusaurMega Venusaur  Grass  Poison    625  80     100      123   \n",
      "\n",
      "   Sp. Atk  Sp. Def  Speed  Generation  Legendary Yuppi  \n",
      "0       65       65     45           1      False  ciao  \n",
      "1       80       80     60           1      False  ciao  \n",
      "2      100      100     80           1      False  ciao  \n",
      "3      122      120     80           1      False  ciao  \n",
      "                    Name  Sp. Def Yuppi\n",
      "0              Bulbasaur       65  ciao\n",
      "1                Ivysaur       80  ciao\n",
      "2               Venusaur      100  ciao\n",
      "3  VenusaurMega Venusaur      120  ciao\n",
      "4             Charmander       50  ciao\n"
     ]
    }
   ],
   "source": [
    "# 1. AGGIUNGERE COLONNNA DIRETTAMENTE CON NOME \n",
    "\n",
    "df = pd.read_csv(\"pokemon.csv\")\n",
    "\n",
    "df['Yuppi'] = 'ciao'\n",
    "\n",
    "print(df.head(4))\n",
    "\n",
    "print(df[['Name','Sp. Def', 'Yuppi']].head(5)) # in questo modo posso mandare a schermo anche la colonna creata da me"
   ]
  },
  {
   "cell_type": "code",
   "execution_count": 19,
   "metadata": {},
   "outputs": [
    {
     "name": "stdout",
     "output_type": "stream",
     "text": [
      "   Wii Switch Gameboy\n",
      "0  2nd    7th     1st\n",
      "1  2nd    7th     1st\n",
      "2  2nd    7th     1st\n",
      "3  2nd    7th     1st\n"
     ]
    }
   ],
   "source": [
    "# AGGIUNGERE PIÙ COLONNE\n",
    "\n",
    "df[['Wii', 'Switch','Gameboy']] = ['2nd','7th','1st']\n",
    "\n",
    "print(df[['Wii','Switch','Gameboy']].head(4))"
   ]
  },
  {
   "cell_type": "code",
   "execution_count": 21,
   "metadata": {},
   "outputs": [
    {
     "name": "stdout",
     "output_type": "stream",
     "text": [
      "   # Barbarossa                   Name Type 1  Type 2  Total  HP  Attack  \\\n",
      "0  1      Lunga              Bulbasaur  Grass  Poison    318  45      49   \n",
      "1  2      Lunga                Ivysaur  Grass  Poison    405  60      62   \n",
      "2  3      Lunga               Venusaur  Grass  Poison    525  80      82   \n",
      "3  3      Lunga  VenusaurMega Venusaur  Grass  Poison    625  80     100   \n",
      "\n",
      "   Defense  Sp. Atk  Sp. Def  Speed  Generation  Legendary  \n",
      "0       49       65       65     45           1      False  \n",
      "1       63       80       80     60           1      False  \n",
      "2       83      100      100     80           1      False  \n",
      "3      123      122      120     80           1      False  \n"
     ]
    }
   ],
   "source": [
    "# 2. INSERT(indice, nome,valore): potendo scegliere l'indice la colonna aggiunta non finirà direttamente alla fine\n",
    "\n",
    "df2 = pd.read_csv(\"pokemon.csv\")\n",
    "\n",
    "df2.insert(1, 'Barbarossa', 'Lunga')\n",
    "\n",
    "print(df2.head(4))"
   ]
  },
  {
   "cell_type": "code",
   "execution_count": 23,
   "metadata": {},
   "outputs": [
    {
     "name": "stdout",
     "output_type": "stream",
     "text": [
      "   # Barbarossa       Name Type 1  Type 2  Total  HP  Attack  Defense  \\\n",
      "0  1      Lunga  Bulbasaur  Grass  Poison    318  45      49       49   \n",
      "1  2      Lunga    Ivysaur  Grass  Poison    405  60      62       63   \n",
      "2  3      Lunga   Venusaur  Grass  Poison    525  80      82       83   \n",
      "\n",
      "   Sp. Atk  Sp. Def  Speed  Generation  Legendary Brutto  \n",
      "0       65       65     45           1      False     Sì  \n",
      "1       80       80     60           1      False     Sì  \n",
      "2      100      100     80           1      False     Sì  \n"
     ]
    }
   ],
   "source": [
    "# 3. LOC[:, 'Nome'] = valore\n",
    "\n",
    "df2.loc[:, 'Brutto'] = 'Sì'   # se con loc inseriamo una colonna che non esiste lui ce la creerà\n",
    "\n",
    "print(df2.head(3))"
   ]
  },
  {
   "cell_type": "code",
   "execution_count": 25,
   "metadata": {},
   "outputs": [
    {
     "name": "stdout",
     "output_type": "stream",
     "text": [
      "   #       Name Type 1  Type 2  Total  HP  Attack  Defense  Sp. Atk  Sp. Def  \\\n",
      "0  1  Bulbasaur  Grass  Poison    318  45      49       49       65       65   \n",
      "1  2    Ivysaur  Grass  Poison    405  60      62       63       80       80   \n",
      "\n",
      "   Speed  Generation  Legendary Yuppi Piace  \n",
      "0     45           1      False  ciao    Si  \n",
      "1     60           1      False  ciao    Si  \n"
     ]
    }
   ],
   "source": [
    "# 4. ASSIGN: a differenza degli altri assign deve essere assegnato ad df\n",
    "\n",
    "df3 = df.assign(Piace = 'Si') # in assign il nome della colonna NON va tra virgolette\n",
    "\n",
    "print(df3.head(2))"
   ]
  },
  {
   "cell_type": "code",
   "execution_count": 31,
   "metadata": {},
   "outputs": [
    {
     "ename": "KeyError",
     "evalue": "\"['Yuppi'] not found in axis\"",
     "output_type": "error",
     "traceback": [
      "\u001b[0;31m---------------------------------------------------------------------------\u001b[0m",
      "\u001b[0;31mKeyError\u001b[0m                                  Traceback (most recent call last)",
      "Cell \u001b[0;32mIn[31], line 5\u001b[0m\n\u001b[1;32m      1\u001b[0m \u001b[38;5;66;03m# RIMUOVERE COLONNE\u001b[39;00m\n\u001b[1;32m      2\u001b[0m \n\u001b[1;32m      3\u001b[0m \u001b[38;5;66;03m# 1. DROP\u001b[39;00m\n\u001b[0;32m----> 5\u001b[0m \u001b[43mdf3\u001b[49m\u001b[38;5;241;43m.\u001b[39;49m\u001b[43mdrop\u001b[49m\u001b[43m(\u001b[49m\u001b[38;5;124;43m'\u001b[39;49m\u001b[38;5;124;43mYuppi\u001b[39;49m\u001b[38;5;124;43m'\u001b[39;49m\u001b[43m,\u001b[49m\u001b[43m \u001b[49m\u001b[43minplace\u001b[49m\u001b[38;5;241;43m=\u001b[39;49m\u001b[38;5;28;43;01mTrue\u001b[39;49;00m\u001b[43m)\u001b[49m     \u001b[38;5;66;03m# INPLACE va a rimuovere la colonna selezionata direttamente al dataframe selezionato(df3) Se non fosse True avremmo un altro data frame\u001b[39;00m\n\u001b[1;32m      6\u001b[0m                                             \u001b[38;5;66;03m# AXIS lo si deve inserire per indicare se riga o colonna. Riga = 0, Colonna = 1\u001b[39;00m\n\u001b[1;32m      8\u001b[0m \u001b[38;5;28mprint\u001b[39m(df3\u001b[38;5;241m.\u001b[39mhead(\u001b[38;5;241m4\u001b[39m))\n",
      "File \u001b[0;32m/Library/Frameworks/Python.framework/Versions/3.12/lib/python3.12/site-packages/pandas/core/frame.py:5581\u001b[0m, in \u001b[0;36mDataFrame.drop\u001b[0;34m(self, labels, axis, index, columns, level, inplace, errors)\u001b[0m\n\u001b[1;32m   5433\u001b[0m \u001b[38;5;28;01mdef\u001b[39;00m \u001b[38;5;21mdrop\u001b[39m(\n\u001b[1;32m   5434\u001b[0m     \u001b[38;5;28mself\u001b[39m,\n\u001b[1;32m   5435\u001b[0m     labels: IndexLabel \u001b[38;5;241m|\u001b[39m \u001b[38;5;28;01mNone\u001b[39;00m \u001b[38;5;241m=\u001b[39m \u001b[38;5;28;01mNone\u001b[39;00m,\n\u001b[0;32m   (...)\u001b[0m\n\u001b[1;32m   5442\u001b[0m     errors: IgnoreRaise \u001b[38;5;241m=\u001b[39m \u001b[38;5;124m\"\u001b[39m\u001b[38;5;124mraise\u001b[39m\u001b[38;5;124m\"\u001b[39m,\n\u001b[1;32m   5443\u001b[0m ) \u001b[38;5;241m-\u001b[39m\u001b[38;5;241m>\u001b[39m DataFrame \u001b[38;5;241m|\u001b[39m \u001b[38;5;28;01mNone\u001b[39;00m:\n\u001b[1;32m   5444\u001b[0m \u001b[38;5;250m    \u001b[39m\u001b[38;5;124;03m\"\"\"\u001b[39;00m\n\u001b[1;32m   5445\u001b[0m \u001b[38;5;124;03m    Drop specified labels from rows or columns.\u001b[39;00m\n\u001b[1;32m   5446\u001b[0m \n\u001b[0;32m   (...)\u001b[0m\n\u001b[1;32m   5579\u001b[0m \u001b[38;5;124;03m            weight  1.0     0.8\u001b[39;00m\n\u001b[1;32m   5580\u001b[0m \u001b[38;5;124;03m    \"\"\"\u001b[39;00m\n\u001b[0;32m-> 5581\u001b[0m     \u001b[38;5;28;01mreturn\u001b[39;00m \u001b[38;5;28;43msuper\u001b[39;49m\u001b[43m(\u001b[49m\u001b[43m)\u001b[49m\u001b[38;5;241;43m.\u001b[39;49m\u001b[43mdrop\u001b[49m\u001b[43m(\u001b[49m\n\u001b[1;32m   5582\u001b[0m \u001b[43m        \u001b[49m\u001b[43mlabels\u001b[49m\u001b[38;5;241;43m=\u001b[39;49m\u001b[43mlabels\u001b[49m\u001b[43m,\u001b[49m\n\u001b[1;32m   5583\u001b[0m \u001b[43m        \u001b[49m\u001b[43maxis\u001b[49m\u001b[38;5;241;43m=\u001b[39;49m\u001b[43maxis\u001b[49m\u001b[43m,\u001b[49m\n\u001b[1;32m   5584\u001b[0m \u001b[43m        \u001b[49m\u001b[43mindex\u001b[49m\u001b[38;5;241;43m=\u001b[39;49m\u001b[43mindex\u001b[49m\u001b[43m,\u001b[49m\n\u001b[1;32m   5585\u001b[0m \u001b[43m        \u001b[49m\u001b[43mcolumns\u001b[49m\u001b[38;5;241;43m=\u001b[39;49m\u001b[43mcolumns\u001b[49m\u001b[43m,\u001b[49m\n\u001b[1;32m   5586\u001b[0m \u001b[43m        \u001b[49m\u001b[43mlevel\u001b[49m\u001b[38;5;241;43m=\u001b[39;49m\u001b[43mlevel\u001b[49m\u001b[43m,\u001b[49m\n\u001b[1;32m   5587\u001b[0m \u001b[43m        \u001b[49m\u001b[43minplace\u001b[49m\u001b[38;5;241;43m=\u001b[39;49m\u001b[43minplace\u001b[49m\u001b[43m,\u001b[49m\n\u001b[1;32m   5588\u001b[0m \u001b[43m        \u001b[49m\u001b[43merrors\u001b[49m\u001b[38;5;241;43m=\u001b[39;49m\u001b[43merrors\u001b[49m\u001b[43m,\u001b[49m\n\u001b[1;32m   5589\u001b[0m \u001b[43m    \u001b[49m\u001b[43m)\u001b[49m\n",
      "File \u001b[0;32m/Library/Frameworks/Python.framework/Versions/3.12/lib/python3.12/site-packages/pandas/core/generic.py:4788\u001b[0m, in \u001b[0;36mNDFrame.drop\u001b[0;34m(self, labels, axis, index, columns, level, inplace, errors)\u001b[0m\n\u001b[1;32m   4786\u001b[0m \u001b[38;5;28;01mfor\u001b[39;00m axis, labels \u001b[38;5;129;01min\u001b[39;00m axes\u001b[38;5;241m.\u001b[39mitems():\n\u001b[1;32m   4787\u001b[0m     \u001b[38;5;28;01mif\u001b[39;00m labels \u001b[38;5;129;01mis\u001b[39;00m \u001b[38;5;129;01mnot\u001b[39;00m \u001b[38;5;28;01mNone\u001b[39;00m:\n\u001b[0;32m-> 4788\u001b[0m         obj \u001b[38;5;241m=\u001b[39m \u001b[43mobj\u001b[49m\u001b[38;5;241;43m.\u001b[39;49m\u001b[43m_drop_axis\u001b[49m\u001b[43m(\u001b[49m\u001b[43mlabels\u001b[49m\u001b[43m,\u001b[49m\u001b[43m \u001b[49m\u001b[43maxis\u001b[49m\u001b[43m,\u001b[49m\u001b[43m \u001b[49m\u001b[43mlevel\u001b[49m\u001b[38;5;241;43m=\u001b[39;49m\u001b[43mlevel\u001b[49m\u001b[43m,\u001b[49m\u001b[43m \u001b[49m\u001b[43merrors\u001b[49m\u001b[38;5;241;43m=\u001b[39;49m\u001b[43merrors\u001b[49m\u001b[43m)\u001b[49m\n\u001b[1;32m   4790\u001b[0m \u001b[38;5;28;01mif\u001b[39;00m inplace:\n\u001b[1;32m   4791\u001b[0m     \u001b[38;5;28mself\u001b[39m\u001b[38;5;241m.\u001b[39m_update_inplace(obj)\n",
      "File \u001b[0;32m/Library/Frameworks/Python.framework/Versions/3.12/lib/python3.12/site-packages/pandas/core/generic.py:4830\u001b[0m, in \u001b[0;36mNDFrame._drop_axis\u001b[0;34m(self, labels, axis, level, errors, only_slice)\u001b[0m\n\u001b[1;32m   4828\u001b[0m         new_axis \u001b[38;5;241m=\u001b[39m axis\u001b[38;5;241m.\u001b[39mdrop(labels, level\u001b[38;5;241m=\u001b[39mlevel, errors\u001b[38;5;241m=\u001b[39merrors)\n\u001b[1;32m   4829\u001b[0m     \u001b[38;5;28;01melse\u001b[39;00m:\n\u001b[0;32m-> 4830\u001b[0m         new_axis \u001b[38;5;241m=\u001b[39m \u001b[43maxis\u001b[49m\u001b[38;5;241;43m.\u001b[39;49m\u001b[43mdrop\u001b[49m\u001b[43m(\u001b[49m\u001b[43mlabels\u001b[49m\u001b[43m,\u001b[49m\u001b[43m \u001b[49m\u001b[43merrors\u001b[49m\u001b[38;5;241;43m=\u001b[39;49m\u001b[43merrors\u001b[49m\u001b[43m)\u001b[49m\n\u001b[1;32m   4831\u001b[0m     indexer \u001b[38;5;241m=\u001b[39m axis\u001b[38;5;241m.\u001b[39mget_indexer(new_axis)\n\u001b[1;32m   4833\u001b[0m \u001b[38;5;66;03m# Case for non-unique axis\u001b[39;00m\n\u001b[1;32m   4834\u001b[0m \u001b[38;5;28;01melse\u001b[39;00m:\n",
      "File \u001b[0;32m/Library/Frameworks/Python.framework/Versions/3.12/lib/python3.12/site-packages/pandas/core/indexes/base.py:7070\u001b[0m, in \u001b[0;36mIndex.drop\u001b[0;34m(self, labels, errors)\u001b[0m\n\u001b[1;32m   7068\u001b[0m \u001b[38;5;28;01mif\u001b[39;00m mask\u001b[38;5;241m.\u001b[39many():\n\u001b[1;32m   7069\u001b[0m     \u001b[38;5;28;01mif\u001b[39;00m errors \u001b[38;5;241m!=\u001b[39m \u001b[38;5;124m\"\u001b[39m\u001b[38;5;124mignore\u001b[39m\u001b[38;5;124m\"\u001b[39m:\n\u001b[0;32m-> 7070\u001b[0m         \u001b[38;5;28;01mraise\u001b[39;00m \u001b[38;5;167;01mKeyError\u001b[39;00m(\u001b[38;5;124mf\u001b[39m\u001b[38;5;124m\"\u001b[39m\u001b[38;5;132;01m{\u001b[39;00mlabels[mask]\u001b[38;5;241m.\u001b[39mtolist()\u001b[38;5;132;01m}\u001b[39;00m\u001b[38;5;124m not found in axis\u001b[39m\u001b[38;5;124m\"\u001b[39m)\n\u001b[1;32m   7071\u001b[0m     indexer \u001b[38;5;241m=\u001b[39m indexer[\u001b[38;5;241m~\u001b[39mmask]\n\u001b[1;32m   7072\u001b[0m \u001b[38;5;28;01mreturn\u001b[39;00m \u001b[38;5;28mself\u001b[39m\u001b[38;5;241m.\u001b[39mdelete(indexer)\n",
      "\u001b[0;31mKeyError\u001b[0m: \"['Yuppi'] not found in axis\""
     ]
    }
   ],
   "source": [
    "# RIMUOVERE COLONNE\n",
    "\n",
    "# 1. DROP\n",
    "\n",
    "df3.drop('Yuppi', inplace=True, axis=1)     # INPLACE va a rimuovere la colonna selezionata direttamente al dataframe selezionato(df3) Se non fosse True avremmo un altro data frame\n",
    "                                            # Inplace chiede? vuoi droppare questa colonna a questo dataframe? True(sì)\n",
    "                                            # AXIS lo si deve inserire per indicare se riga o colonna. Riga = 0, Colonna = 1\n",
    "\n",
    "print(df3.head(4))"
   ]
  },
  {
   "cell_type": "code",
   "execution_count": 38,
   "metadata": {},
   "outputs": [
    {
     "ename": "KeyError",
     "evalue": "'Brutto'",
     "output_type": "error",
     "traceback": [
      "\u001b[0;31m---------------------------------------------------------------------------\u001b[0m",
      "\u001b[0;31mKeyError\u001b[0m                                  Traceback (most recent call last)",
      "File \u001b[0;32m/Library/Frameworks/Python.framework/Versions/3.12/lib/python3.12/site-packages/pandas/core/indexes/base.py:3805\u001b[0m, in \u001b[0;36mIndex.get_loc\u001b[0;34m(self, key)\u001b[0m\n\u001b[1;32m   3804\u001b[0m \u001b[38;5;28;01mtry\u001b[39;00m:\n\u001b[0;32m-> 3805\u001b[0m     \u001b[38;5;28;01mreturn\u001b[39;00m \u001b[38;5;28;43mself\u001b[39;49m\u001b[38;5;241;43m.\u001b[39;49m\u001b[43m_engine\u001b[49m\u001b[38;5;241;43m.\u001b[39;49m\u001b[43mget_loc\u001b[49m\u001b[43m(\u001b[49m\u001b[43mcasted_key\u001b[49m\u001b[43m)\u001b[49m\n\u001b[1;32m   3806\u001b[0m \u001b[38;5;28;01mexcept\u001b[39;00m \u001b[38;5;167;01mKeyError\u001b[39;00m \u001b[38;5;28;01mas\u001b[39;00m err:\n",
      "File \u001b[0;32mindex.pyx:167\u001b[0m, in \u001b[0;36mpandas._libs.index.IndexEngine.get_loc\u001b[0;34m()\u001b[0m\n",
      "File \u001b[0;32mindex.pyx:196\u001b[0m, in \u001b[0;36mpandas._libs.index.IndexEngine.get_loc\u001b[0;34m()\u001b[0m\n",
      "File \u001b[0;32mpandas/_libs/hashtable_class_helper.pxi:7081\u001b[0m, in \u001b[0;36mpandas._libs.hashtable.PyObjectHashTable.get_item\u001b[0;34m()\u001b[0m\n",
      "File \u001b[0;32mpandas/_libs/hashtable_class_helper.pxi:7089\u001b[0m, in \u001b[0;36mpandas._libs.hashtable.PyObjectHashTable.get_item\u001b[0;34m()\u001b[0m\n",
      "\u001b[0;31mKeyError\u001b[0m: 'Brutto'",
      "\nThe above exception was the direct cause of the following exception:\n",
      "\u001b[0;31mKeyError\u001b[0m                                  Traceback (most recent call last)",
      "Cell \u001b[0;32mIn[38], line 3\u001b[0m\n\u001b[1;32m      1\u001b[0m \u001b[38;5;66;03m# 2. DEL\u001b[39;00m\n\u001b[0;32m----> 3\u001b[0m \u001b[38;5;28;01mdel\u001b[39;00m \u001b[43mdf\u001b[49m\u001b[43m[\u001b[49m\u001b[38;5;124;43m'\u001b[39;49m\u001b[38;5;124;43mBrutto\u001b[39;49m\u001b[38;5;124;43m'\u001b[39;49m\u001b[43m]\u001b[49m\n\u001b[1;32m      5\u001b[0m \u001b[38;5;28mprint\u001b[39m(df\u001b[38;5;241m.\u001b[39mhead(\u001b[38;5;241m4\u001b[39m))\n",
      "File \u001b[0;32m/Library/Frameworks/Python.framework/Versions/3.12/lib/python3.12/site-packages/pandas/core/generic.py:4506\u001b[0m, in \u001b[0;36mNDFrame.__delitem__\u001b[0;34m(self, key)\u001b[0m\n\u001b[1;32m   4501\u001b[0m             deleted \u001b[38;5;241m=\u001b[39m \u001b[38;5;28;01mTrue\u001b[39;00m\n\u001b[1;32m   4502\u001b[0m \u001b[38;5;28;01mif\u001b[39;00m \u001b[38;5;129;01mnot\u001b[39;00m deleted:\n\u001b[1;32m   4503\u001b[0m     \u001b[38;5;66;03m# If the above loop ran and didn't delete anything because\u001b[39;00m\n\u001b[1;32m   4504\u001b[0m     \u001b[38;5;66;03m# there was no match, this call should raise the appropriate\u001b[39;00m\n\u001b[1;32m   4505\u001b[0m     \u001b[38;5;66;03m# exception:\u001b[39;00m\n\u001b[0;32m-> 4506\u001b[0m     loc \u001b[38;5;241m=\u001b[39m \u001b[38;5;28;43mself\u001b[39;49m\u001b[38;5;241;43m.\u001b[39;49m\u001b[43maxes\u001b[49m\u001b[43m[\u001b[49m\u001b[38;5;241;43m-\u001b[39;49m\u001b[38;5;241;43m1\u001b[39;49m\u001b[43m]\u001b[49m\u001b[38;5;241;43m.\u001b[39;49m\u001b[43mget_loc\u001b[49m\u001b[43m(\u001b[49m\u001b[43mkey\u001b[49m\u001b[43m)\u001b[49m\n\u001b[1;32m   4507\u001b[0m     \u001b[38;5;28mself\u001b[39m\u001b[38;5;241m.\u001b[39m_mgr \u001b[38;5;241m=\u001b[39m \u001b[38;5;28mself\u001b[39m\u001b[38;5;241m.\u001b[39m_mgr\u001b[38;5;241m.\u001b[39midelete(loc)\n\u001b[1;32m   4509\u001b[0m \u001b[38;5;66;03m# delete from the caches\u001b[39;00m\n",
      "File \u001b[0;32m/Library/Frameworks/Python.framework/Versions/3.12/lib/python3.12/site-packages/pandas/core/indexes/base.py:3812\u001b[0m, in \u001b[0;36mIndex.get_loc\u001b[0;34m(self, key)\u001b[0m\n\u001b[1;32m   3807\u001b[0m     \u001b[38;5;28;01mif\u001b[39;00m \u001b[38;5;28misinstance\u001b[39m(casted_key, \u001b[38;5;28mslice\u001b[39m) \u001b[38;5;129;01mor\u001b[39;00m (\n\u001b[1;32m   3808\u001b[0m         \u001b[38;5;28misinstance\u001b[39m(casted_key, abc\u001b[38;5;241m.\u001b[39mIterable)\n\u001b[1;32m   3809\u001b[0m         \u001b[38;5;129;01mand\u001b[39;00m \u001b[38;5;28many\u001b[39m(\u001b[38;5;28misinstance\u001b[39m(x, \u001b[38;5;28mslice\u001b[39m) \u001b[38;5;28;01mfor\u001b[39;00m x \u001b[38;5;129;01min\u001b[39;00m casted_key)\n\u001b[1;32m   3810\u001b[0m     ):\n\u001b[1;32m   3811\u001b[0m         \u001b[38;5;28;01mraise\u001b[39;00m InvalidIndexError(key)\n\u001b[0;32m-> 3812\u001b[0m     \u001b[38;5;28;01mraise\u001b[39;00m \u001b[38;5;167;01mKeyError\u001b[39;00m(key) \u001b[38;5;28;01mfrom\u001b[39;00m \u001b[38;5;21;01merr\u001b[39;00m\n\u001b[1;32m   3813\u001b[0m \u001b[38;5;28;01mexcept\u001b[39;00m \u001b[38;5;167;01mTypeError\u001b[39;00m:\n\u001b[1;32m   3814\u001b[0m     \u001b[38;5;66;03m# If we have a listlike key, _check_indexing_error will raise\u001b[39;00m\n\u001b[1;32m   3815\u001b[0m     \u001b[38;5;66;03m#  InvalidIndexError. Otherwise we fall through and re-raise\u001b[39;00m\n\u001b[1;32m   3816\u001b[0m     \u001b[38;5;66;03m#  the TypeError.\u001b[39;00m\n\u001b[1;32m   3817\u001b[0m     \u001b[38;5;28mself\u001b[39m\u001b[38;5;241m.\u001b[39m_check_indexing_error(key)\n",
      "\u001b[0;31mKeyError\u001b[0m: 'Brutto'"
     ]
    }
   ],
   "source": [
    "# 2. DEL\n",
    "\n",
    "del df['Brutto']\n",
    "\n",
    "print(df.head(4))"
   ]
  },
  {
   "cell_type": "code",
   "execution_count": 39,
   "metadata": {},
   "outputs": [
    {
     "name": "stdout",
     "output_type": "stream",
     "text": [
      "   # Type 1  Type 2  Total  HP  Attack  Defense  Sp. Atk  Sp. Def  Speed  \\\n",
      "0  1  Grass  Poison    318  45      49       49       65       65     45   \n",
      "1  2  Grass  Poison    405  60      62       63       80       80     60   \n",
      "2  3  Grass  Poison    525  80      82       83      100      100     80   \n",
      "\n",
      "   Generation  Legendary Yuppi  \n",
      "0           1      False  ciao  \n",
      "1           1      False  ciao  \n",
      "2           1      False  ciao  \n",
      "0    Bulbasaur\n",
      "1      Ivysaur\n",
      "2     Venusaur\n",
      "Name: Name, dtype: object\n"
     ]
    }
   ],
   "source": [
    "# 3. POP: ci restituisce anche la colonna così da poterla prendere\n",
    "\n",
    "colPop = df.pop('Name')\n",
    "\n",
    "print(df.head(3))\n",
    "\n",
    "print(colPop.head(3))\n",
    "\n"
   ]
  },
  {
   "cell_type": "code",
   "execution_count": 45,
   "metadata": {},
   "outputs": [
    {
     "name": "stdout",
     "output_type": "stream",
     "text": [
      "   HP  Speed  Defense                   Name\n",
      "0  45     45       49              Bulbasaur\n",
      "1  60     60       63                Ivysaur\n",
      "2  80     80       83               Venusaur\n",
      "3  80     80      123  VenusaurMega Venusaur\n",
      "   HP       Name  Total  Type 2 Type 1\n",
      "0  45  Bulbasaur    318  Poison  Grass\n",
      "1  60    Ivysaur    405  Poison  Grass\n",
      "2  80   Venusaur    525  Poison  Grass\n"
     ]
    }
   ],
   "source": [
    "# MUOVERE LE COLONNE\n",
    "\n",
    "# 1. LOC e ILOC \n",
    "\n",
    "print(df3.loc[:, ['HP','Speed', 'Defense', 'Name']].head(4))  # per spostarle basta scrivere le nostre colonne nell'ordine che desideriamo \n",
    "\n",
    "print(df3.iloc[:, [5,1,4,3,2]].head(3))"
   ]
  },
  {
   "cell_type": "code",
   "execution_count": 46,
   "metadata": {},
   "outputs": [
    {
     "name": "stdout",
     "output_type": "stream",
     "text": [
      "   HP  Generation  Speed Type 1  Attack\n",
      "0  45           1     45  Grass      49\n",
      "1  60           1     60  Grass      62\n",
      "2  80           1     80  Grass      82\n",
      "3  80           1     80  Grass     100\n"
     ]
    }
   ],
   "source": [
    "# 2. SUBSET \n",
    "\n",
    "print(df[['HP','Generation', 'Speed','Type 1','Attack']].head(4))"
   ]
  },
  {
   "cell_type": "code",
   "execution_count": 47,
   "metadata": {},
   "outputs": [
    {
     "name": "stdout",
     "output_type": "stream",
     "text": [
      "  Yuppi  Legendary  Generation  Speed  Sp. Def  Sp. Atk  Defense  Attack  HP  \\\n",
      "0  ciao      False           1     45       65       65       49      49  45   \n",
      "1  ciao      False           1     60       80       80       63      62  60   \n",
      "2  ciao      False           1     80      100      100       83      82  80   \n",
      "\n",
      "   Total  Type 2 Type 1  #  \n",
      "0    318  Poison  Grass  1  \n",
      "1    405  Poison  Grass  2  \n",
      "2    525  Poison  Grass  3  \n"
     ]
    }
   ],
   "source": [
    "# 3. REVERSE: mi va ad invertire l'ordine\n",
    "\n",
    "colums = list(df.columns)   # ho preso tutte le colonne di df e le ho inserite in una lista così da poter fare reverse\n",
    "\n",
    "colums.reverse()    \n",
    "\n",
    "print(df[colums].head(3))\n"
   ]
  },
  {
   "cell_type": "code",
   "execution_count": 49,
   "metadata": {},
   "outputs": [
    {
     "name": "stdout",
     "output_type": "stream",
     "text": [
      "  Yuppi  Legendary  Generation  Speed  Sp. Def  Sp. Atk  Defense  Attack  HP  \\\n",
      "0  ciao      False           1     45       65       65       49      49  45   \n",
      "1  ciao      False           1     60       80       80       63      62  60   \n",
      "2  ciao      False           1     80      100      100       83      82  80   \n",
      "3  ciao      False           1     80      120      122      123     100  80   \n",
      "\n",
      "   Total  Type 2 Type 1  #  \n",
      "0    318  Poison  Grass  1  \n",
      "1    405  Poison  Grass  2  \n",
      "2    525  Poison  Grass  3  \n",
      "3    625  Poison  Grass  3  \n"
     ]
    }
   ],
   "source": [
    "# 4. DF.COLUMS.TOLIST(): stesso risultato di reverse\n",
    "\n",
    "colums = df.columns.to_list()\n",
    "colums.reverse()\n",
    "\n",
    "print(df[colums].head(4))"
   ]
  },
  {
   "cell_type": "code",
   "execution_count": 51,
   "metadata": {},
   "outputs": [
    {
     "name": "stdout",
     "output_type": "stream",
     "text": [
      "['Yuppi', 'Legendary', 'Generation', 'Speed', 'Sp. Def', 'Sp. Atk', 'Defense', 'Attack', 'HP', 'Total', 'Type 2', 'Type 1', '#']\n"
     ]
    }
   ],
   "source": [
    "# Una volta ottenute le nostre colonne nell'ordine che vogliamo possiamo tenerle come tali cambiando il dataframe in modo permanente\n",
    "\n",
    "# per cambiarle in modo permanente ci basterà assegnare il nostro df = df2[colonne da inserire]\n",
    "\n",
    "print(colums)"
   ]
  },
  {
   "cell_type": "code",
   "execution_count": 52,
   "metadata": {},
   "outputs": [
    {
     "name": "stdout",
     "output_type": "stream",
     "text": [
      "  Yuppi  Legendary  Generation  Speed  Sp. Def  Sp. Atk  Defense  Attack  HP  \\\n",
      "0  ciao      False           1     45       65       65       49      49  45   \n",
      "1  ciao      False           1     60       80       80       63      62  60   \n",
      "2  ciao      False           1     80      100      100       83      82  80   \n",
      "3  ciao      False           1     80      120      122      123     100  80   \n",
      "\n",
      "   Total  Type 2 Type 1  #  \n",
      "0    318  Poison  Grass  1  \n",
      "1    405  Poison  Grass  2  \n",
      "2    525  Poison  Grass  3  \n",
      "3    625  Poison  Grass  3  \n"
     ]
    }
   ],
   "source": [
    "colums = df.columns.to_list()\n",
    "colums.reverse()\n",
    "\n",
    "df = df[colums]\n",
    "\n",
    "print(df.head(4))"
   ]
  },
  {
   "cell_type": "code",
   "execution_count": null,
   "metadata": {},
   "outputs": [],
   "source": []
  }
 ],
 "metadata": {
  "kernelspec": {
   "display_name": "Python 3",
   "language": "python",
   "name": "python3"
  },
  "language_info": {
   "codemirror_mode": {
    "name": "ipython",
    "version": 3
   },
   "file_extension": ".py",
   "mimetype": "text/x-python",
   "name": "python",
   "nbconvert_exporter": "python",
   "pygments_lexer": "ipython3",
   "version": "3.12.3"
  }
 },
 "nbformat": 4,
 "nbformat_minor": 2
}
