{
 "cells": [
  {
   "cell_type": "code",
   "execution_count": 1,
   "metadata": {},
   "outputs": [],
   "source": [
    "# 8. ORDINARE DATAFRAME\n",
    "\n",
    "import pandas as pd"
   ]
  },
  {
   "cell_type": "code",
   "execution_count": 30,
   "metadata": {},
   "outputs": [
    {
     "name": "stdout",
     "output_type": "stream",
     "text": [
      "   #       Name Type 1  Type 2  Total  HP  Attack  Defense  Sp. Atk  Sp. Def  \\\n",
      "0  1  Bulbasaur  Grass  Poison    318  45      49       49       65       65   \n",
      "1  2    Ivysaur  Grass  Poison    405  60      62       63       80       80   \n",
      "2  3   Venusaur  Grass  Poison    525  80      82       83      100      100   \n",
      "\n",
      "   Speed  Generation  Legendary  \n",
      "0     45           1      False  \n",
      "1     60           1      False  \n",
      "2     80           1      False  \n"
     ]
    }
   ],
   "source": [
    "# ASCENDING: si usa SORT_INDEX e ordine dal più grande al più piccolo. Con ASCENDING invertirà i dati di output\n",
    "\n",
    "df = pd.read_csv(\"pokemon.csv\")\n",
    "\n",
    "sdf = df.sort_index(ascending=False)\n",
    "\n",
    "print(sdf.head(3))"
   ]
  },
  {
   "cell_type": "code",
   "execution_count": 19,
   "metadata": {},
   "outputs": [
    {
     "name": "stdout",
     "output_type": "stream",
     "text": [
      "       #      Name  Type 1 Type 2  Total  HP  Attack  Defense  Sp. Atk  \\\n",
      "316  292  Shedinja     Bug  Ghost    236   1      90       45       30   \n",
      "55    50   Diglett  Ground    NaN    265  10      55       25       35   \n",
      "139  129  Magikarp   Water    NaN    200  20      10       55       15   \n",
      "\n",
      "     Sp. Def  Speed  Generation  Legendary  \n",
      "316       30     40           3      False  \n",
      "55        45     95           1      False  \n",
      "139       20     80           1      False  \n"
     ]
    }
   ],
   "source": [
    "# COLONNA\n",
    "\n",
    "df = pd.read_csv(\"pokemon.csv\")\n",
    "\n",
    "sdf = df.sort_values(by='HP')\n",
    "\n",
    "print(sdf.head(3))"
   ]
  },
  {
   "cell_type": "code",
   "execution_count": 29,
   "metadata": {},
   "outputs": [
    {
     "name": "stdout",
     "output_type": "stream",
     "text": [
      "       #                     Name   Type 1    Type 2  Total   HP  Attack  \\\n",
      "163  150      MewtwoMega Mewtwo X  Psychic  Fighting    780  106     190   \n",
      "232  214  HeracrossMega Heracross      Bug  Fighting    600   80     185   \n",
      "424  383    GroudonPrimal Groudon   Ground      Fire    770  100     180   \n",
      "\n",
      "     Defense  Sp. Atk  Sp. Def  Speed  Generation  Legendary  \n",
      "163      100      154      100    130           1       True  \n",
      "232      115       40      105     75           2      False  \n",
      "424      160      150       90     90           3       True  \n"
     ]
    }
   ],
   "source": [
    "# COLONNA CON ASCENDING \n",
    "\n",
    "df = pd.read_csv(\"pokemon.csv\")\n",
    "\n",
    "sdf = df.sort_values(by='Attack', ascending=False)\n",
    "\n",
    "print(sdf.head(3))"
   ]
  },
  {
   "cell_type": "code",
   "execution_count": 22,
   "metadata": {},
   "outputs": [
    {
     "name": "stdout",
     "output_type": "stream",
     "text": [
      "       #     Name  Type 1 Type 2  Total   HP  Attack  Defense  Sp. Atk  \\\n",
      "488  440  Happiny  Normal    NaN    220  100       5        5       15   \n",
      "121  113  Chansey  Normal    NaN    450  250       5        5       35   \n",
      "261  242  Blissey  Normal    NaN    540  255      10       10       75   \n",
      "\n",
      "     Sp. Def  Speed  Generation  Legendary  \n",
      "488       65     30           4      False  \n",
      "121      105     50           1      False  \n",
      "261      135     55           2      False  \n"
     ]
    }
   ],
   "source": [
    "# ORDINARE PIÙ COLONNE INSIEME \n",
    "\n",
    "df = pd.read_csv(\"pokemon.csv\")\n",
    "\n",
    "sdf = df.sort_values(by=['Defense', 'Speed'])\n",
    "\n",
    "print(sdf.head(3))"
   ]
  },
  {
   "cell_type": "code",
   "execution_count": 25,
   "metadata": {},
   "outputs": [
    {
     "name": "stdout",
     "output_type": "stream",
     "text": [
      "     Total  Attack  HP\n",
      "206    180      30  30\n",
      "322    190      20  50\n",
      "446    194      25  37\n",
      "16     195      35  40\n",
      "13     195      30  45\n"
     ]
    }
   ],
   "source": [
    "# se volessi mandare a schermo solo i dati che mi interessano\n",
    "\n",
    "df = pd.read_csv(\"pokemon.csv\")\n",
    "\n",
    "sdf = df.sort_values(by=['Total', 'HP'])\n",
    "\n",
    "print(sdf[['Total', 'Attack', 'HP']].head(5))"
   ]
  },
  {
   "cell_type": "code",
   "execution_count": null,
   "metadata": {},
   "outputs": [],
   "source": []
  }
 ],
 "metadata": {
  "kernelspec": {
   "display_name": "Python 3",
   "language": "python",
   "name": "python3"
  },
  "language_info": {
   "codemirror_mode": {
    "name": "ipython",
    "version": 3
   },
   "file_extension": ".py",
   "mimetype": "text/x-python",
   "name": "python",
   "nbconvert_exporter": "python",
   "pygments_lexer": "ipython3",
   "version": "3.12.3"
  }
 },
 "nbformat": 4,
 "nbformat_minor": 2
}
