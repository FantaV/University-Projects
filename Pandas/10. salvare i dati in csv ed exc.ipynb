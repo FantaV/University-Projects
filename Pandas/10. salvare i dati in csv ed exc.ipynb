{
 "cells": [
  {
   "cell_type": "code",
   "execution_count": 4,
   "metadata": {},
   "outputs": [],
   "source": [
    "# 10 SALVARE I DATI IN CSV \n",
    "\n",
    "import pandas as pd\n",
    "\n",
    "# salvare i sottodataframe che abbiamo creato all'interno di csv o excel "
   ]
  },
  {
   "cell_type": "code",
   "execution_count": 24,
   "metadata": {},
   "outputs": [
    {
     "name": "stdout",
     "output_type": "stream",
     "text": [
      "        Name  Speed  Total\n",
      "0  Bulbasaur     45    318\n",
      "1    Ivysaur     60    405\n",
      "2   Venusaur     80    525\n"
     ]
    }
   ],
   "source": [
    "df = pd.read_csv(\"pokemon.csv\")\n",
    "\n",
    "sdf = df[['Name','Speed','Total']]\n",
    "\n",
    "print(sdf.head(3))"
   ]
  },
  {
   "cell_type": "code",
   "execution_count": 10,
   "metadata": {},
   "outputs": [],
   "source": [
    "# SALVATAGGIO IN CSV: vogliamo salvare il nuovo SDF con le colonne che abbiamo inserito noi\n",
    "\n",
    "sdf.to_csv('mini_pokemon.csv', index=False) # con index false abbiamo rimosso l'index\n",
    "\n",
    "# se vogliamo salvare il file in un'altra directory rispetto a quella in cui siamo effettuiamo i seguenti import:\n",
    "\n",
    "from pathlib import Path\n",
    "# oppure  \n",
    "import os"
   ]
  },
  {
   "cell_type": "code",
   "execution_count": 23,
   "metadata": {},
   "outputs": [],
   "source": [
    "# CREARE CSV COMPRESSO \n",
    "\n",
    "compressdf = dict(method='zip', archive_name='nuovi_pokemon.csv')\n",
    "\n",
    "sdf.to_csv('nuovi_pokemon.zip', index=False, compression=compressdf)\n",
    "\n",
    "# ciò che stiamo dicendo è: ti passo questo file csv e me lo comprimi, ti passo le opzioni e me lo devi chiamare come nuovi_pkmn, e me lo butti dentro nuovi_pkmn ZIP che verrà compressa \n",
    "\n",
    "# le due estensioni vanno invertite: prima inseriamo csv in archive e dopo .zip quando dobbiamo effettivamente comprimere"
   ]
  },
  {
   "cell_type": "code",
   "execution_count": 17,
   "metadata": {},
   "outputs": [],
   "source": [
    "# EXCEL\n",
    "\n",
    "from openpyxl import Workbook   # per read/write file excel xlsx/xlsm/xltx/xltm\n",
    "\n",
    "sdf.to_excel('altri_pokemon.xlsx', index=False)"
   ]
  },
  {
   "cell_type": "code",
   "execution_count": 18,
   "metadata": {},
   "outputs": [],
   "source": [
    "# RINOMINARE IL FOGLIO EXCEL: di default è denominato sheet1\n",
    "\n",
    "sdf.to_excel('altri_pokemon.xlsx', index=False, sheet_name='Pokemon_totali')"
   ]
  },
  {
   "cell_type": "code",
   "execution_count": 28,
   "metadata": {},
   "outputs": [],
   "source": [
    "# CREARE PIÙ FOGLI: voglio creare un unico file dove ogni data frame va a prendersi il suo foglio specifico\n",
    "\n",
    "xdf = df[['Name', 'HP', 'Sp. Atk']]\n",
    "xdf2 = df[['Name','Attack','Defense','Speed','Generation']]     # ricordarsi di mettere le doppie parentesi trattandosi di un lista\n",
    "xdf3 = df[['Type 1', 'Legendary', 'Sp. Def']]\n",
    "\n",
    "with pd.ExcelWriter('stats_pkmn_x2.xlsx') as writer:         # con writer ci va a scrivere il file: nuovi pkmn x2\n",
    "    xdf.to_excel(writer, sheet_name='Totali', index=False)\n",
    "    xdf2.to_excel(writer, sheet_name='Stats', index=False)\n",
    "    xdf3.to_excel(writer, sheet_name='Type', index=False)\n"
   ]
  },
  {
   "cell_type": "code",
   "execution_count": 30,
   "metadata": {},
   "outputs": [
    {
     "name": "stdout",
     "output_type": "stream",
     "text": [
      "   #                       Name Type 1  Type 2  Total\n",
      "0  1                  Bulbasaur  Grass  Poison    318\n",
      "1  2                    Ivysaur  Grass  Poison    405\n",
      "2  3                   Venusaur  Grass  Poison    525\n",
      "3  3      VenusaurMega Venusaur  Grass  Poison    625\n",
      "4  4                 Charmander   Fire     NaN    309\n",
      "5  5                 Charmeleon   Fire     NaN    405\n",
      "6  6                  Charizard   Fire  Flying    534\n",
      "7  6  CharizardMega Charizard X   Fire  Dragon    634\n",
      "8  6  CharizardMega Charizard Y   Fire  Flying    634\n",
      "9  7                   Squirtle  Water     NaN    314\n"
     ]
    }
   ],
   "source": [
    "# APPEND: appendere ad un file già esistente\n",
    "\n",
    "df2= df.iloc[0:10, 0:5]      # voglio prendere le prime 10 righe(decima non compresa) e le colonne dalla 0 alla 4. Qui abbiamo preso tutti i dati inseriti nelle colonne e righe selezionate\n",
    "print(df2)\n",
    "\n",
    "# ora andiamo ad appendere\n",
    "\n",
    "with pd.ExcelWriter('stats_pkmn_x2.xlsx', mode='a',) as writer:     # mode='a': indica la modalità di scrittura ovvero Append\n",
    "    df2.to_excel(writer, sheet_name='foglio_appeso')"
   ]
  },
  {
   "cell_type": "code",
   "execution_count": null,
   "metadata": {},
   "outputs": [],
   "source": []
  }
 ],
 "metadata": {
  "kernelspec": {
   "display_name": "Python 3",
   "language": "python",
   "name": "python3"
  },
  "language_info": {
   "codemirror_mode": {
    "name": "ipython",
    "version": 3
   },
   "file_extension": ".py",
   "mimetype": "text/x-python",
   "name": "python",
   "nbconvert_exporter": "python",
   "pygments_lexer": "ipython3",
   "version": "3.12.3"
  }
 },
 "nbformat": 4,
 "nbformat_minor": 2
}
