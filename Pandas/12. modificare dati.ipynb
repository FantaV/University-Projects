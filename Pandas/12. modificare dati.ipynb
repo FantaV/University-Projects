{
 "cells": [
  {
   "cell_type": "code",
   "execution_count": 1,
   "metadata": {},
   "outputs": [],
   "source": [
    "# 12. MODIFICARE DATI \n",
    "\n",
    "import pandas as pd "
   ]
  },
  {
   "cell_type": "code",
   "execution_count": 3,
   "metadata": {},
   "outputs": [
    {
     "name": "stdout",
     "output_type": "stream",
     "text": [
      "   #      Name Type 1  Type 2  Total  HP  Attack  Defense  Sp. Atk  Sp. Def  \\\n",
      "0  1  Babasaur  Grass  Poison    318  45      49       49       65       65   \n",
      "\n",
      "   Speed  Generation  Legendary  \n",
      "0     45           1      False  \n"
     ]
    }
   ],
   "source": [
    "# MODIFICARE COLONNA CON LOC \n",
    "\n",
    "df = pd.read_csv('pokemon.csv')\n",
    "\n",
    "df.loc[df['Name'] == 'Bulbasaur', 'Name'] = 'Babasaur'  \n",
    "# con questa sintassi stiamo dicendo mi prendi la colonna che io ti dico (nome) con questo nome, me lo fai diventare in quest'altro nome \n",
    "\n",
    "print(df.head(1))"
   ]
  },
  {
   "cell_type": "code",
   "execution_count": 6,
   "metadata": {},
   "outputs": [
    {
     "name": "stdout",
     "output_type": "stream",
     "text": [
      "   #      Name  Type 1  Type 2  Total  HP  Attack  Defense  Sp. Atk  Sp. Def  \\\n",
      "0  1  Babasaur  Querty  Querty    318  45      49       49       65       65   \n",
      "\n",
      "   Speed  Generation  Legendary  \n",
      "0     45           1      False  \n"
     ]
    }
   ],
   "source": [
    "# MODIFICARE MULTIPLE COLONNE\n",
    "\n",
    "df.loc[df['Name'] == 'Babasaur', ['Type 1','Type 2']] = 'Querty' # così invece abbiamo preso la colonna e riga bulbasaur ed i valori delle colonne type sono stati cambiati\n",
    "\n",
    "print(df.head(1))"
   ]
  },
  {
   "cell_type": "code",
   "execution_count": 7,
   "metadata": {},
   "outputs": [
    {
     "name": "stdout",
     "output_type": "stream",
     "text": [
      "   #      Name Type 1  Type 2  Total  HP  Attack  Defense  Sp. Atk  Sp. Def  \\\n",
      "0  1  Babasaur  Grass  Poison    318  45      49       49       65       65   \n",
      "\n",
      "   Speed  Generation  Legendary  \n",
      "0     45           1      False  \n"
     ]
    }
   ],
   "source": [
    "# MULTIPLI VALORI: per ogni colonna diamo un valore particolare\n",
    "\n",
    "df.loc[df['Name'] == 'Babasaur', ['Type 1','Type 2']] = ['Grass', 'Poison']\n",
    "\n",
    "print(df.head(1))"
   ]
  },
  {
   "cell_type": "code",
   "execution_count": 12,
   "metadata": {},
   "outputs": [
    {
     "name": "stdout",
     "output_type": "stream",
     "text": [
      "   #                   Name Type 1  Type 2  Total  HP  Attack  Defense  \\\n",
      "0  1               Babasaur  Grass  Poison    318  45      49       49   \n",
      "1  2                Ivysaur  Grass  Poison    405  60      62       63   \n",
      "2  3               Venusaur   Erba   Aceto    525  80      82       83   \n",
      "3  3  VenusaurMega Venusaur   Erba   Aceto    625  80     100      123   \n",
      "4  4             Charmander   Fire     NaN    309  39      52       43   \n",
      "\n",
      "   Sp. Atk  Sp. Def  Speed  Generation  Legendary  \n",
      "0       65       65     45           1      False  \n",
      "1       80       80     60           1      False  \n",
      "2      100      100     80           1      False  \n",
      "3      122      120     80           1      False  \n",
      "4       60       50     65           1      False  \n"
     ]
    }
   ],
   "source": [
    "# MULTIPLE CONDIZIONI: cioè maggiore minore uguale, chiedere se contiene questo, se il tipo è uguale a fuoco ecc..\n",
    "\n",
    "df.loc[df['Name'].str.contains('saur') & (df['Total'] > 500), ['Type 1','Type 2']] = ['Erba', 'Aceto']\n",
    "#                           multiple condizioni                 multiple colonne      multipli valori\n",
    "print(df.head(5))"
   ]
  },
  {
   "cell_type": "code",
   "execution_count": null,
   "metadata": {},
   "outputs": [],
   "source": []
  }
 ],
 "metadata": {
  "kernelspec": {
   "display_name": "Python 3",
   "language": "python",
   "name": "python3"
  },
  "language_info": {
   "codemirror_mode": {
    "name": "ipython",
    "version": 3
   },
   "file_extension": ".py",
   "mimetype": "text/x-python",
   "name": "python",
   "nbconvert_exporter": "python",
   "pygments_lexer": "ipython3",
   "version": "3.12.3"
  }
 },
 "nbformat": 4,
 "nbformat_minor": 2
}
