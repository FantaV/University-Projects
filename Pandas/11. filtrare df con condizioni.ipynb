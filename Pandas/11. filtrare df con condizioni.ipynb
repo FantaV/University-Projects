{
 "cells": [
  {
   "cell_type": "code",
   "execution_count": 3,
   "metadata": {},
   "outputs": [],
   "source": [
    "# 11. FILTARE I DATI \n",
    "\n",
    "import pandas as pd"
   ]
  },
  {
   "cell_type": "code",
   "execution_count": 5,
   "metadata": {},
   "outputs": [
    {
     "name": "stdout",
     "output_type": "stream",
     "text": [
      "   #       Name Type 1  Type 2  Total  HP  Attack  Defense  Sp. Atk  Sp. Def  \\\n",
      "0  1  Bulbasaur  Grass  Poison    318  45      49       49       65       65   \n",
      "\n",
      "   Speed  Generation  Legendary  \n",
      "0     45           1      False  \n",
      "   #                   Name Type 1  Type 2  Total  HP  Attack  Defense  \\\n",
      "1  2                Ivysaur  Grass  Poison    405  60      62       63   \n",
      "2  3               Venusaur  Grass  Poison    525  80      82       83   \n",
      "3  3  VenusaurMega Venusaur  Grass  Poison    625  80     100      123   \n",
      "4  4             Charmander   Fire     NaN    309  39      52       43   \n",
      "\n",
      "   Sp. Atk  Sp. Def  Speed  Generation  Legendary  \n",
      "1       80       80     60           1      False  \n",
      "2      100      100     80           1      False  \n",
      "3      122      120     80           1      False  \n",
      "4       60       50     65           1      False  \n"
     ]
    }
   ],
   "source": [
    "# UGUALE E DIVERSO\n",
    "\n",
    "df = pd.read_csv('pokemon.csv')\n",
    "\n",
    "# print(df['Name' == 'Bulbasaur']) questa sintassi darebbe errore perché il DF va passato nella condizione, cioè, Bulbasuar non deve essere la condizione, ma IL RISULTATO DELLA CONDIZIONE\n",
    "\n",
    "print(df[df.Name == 'Bulbasaur'])   # cos' mando a schermo DF(il primmo) dove DF.NAME è == a Bulba \n",
    "\n",
    "print(df[df.Name != 'Bulbasaur'].head(4))  # tutto diverso da Bulba"
   ]
  },
  {
   "cell_type": "code",
   "execution_count": 7,
   "metadata": {},
   "outputs": [
    {
     "name": "stdout",
     "output_type": "stream",
     "text": [
      "   #                   Name Type 1  Type 2  Total  HP  Attack  Defense  \\\n",
      "0  1              Bulbasaur  Grass  Poison    318  45      49       49   \n",
      "1  2                Ivysaur  Grass  Poison    405  60      62       63   \n",
      "2  3               Venusaur  Grass  Poison    525  80      82       83   \n",
      "3  3  VenusaurMega Venusaur  Grass  Poison    625  80     100      123   \n",
      "\n",
      "   Sp. Atk  Sp. Def  Speed  Generation  Legendary  \n",
      "0       65       65     45           1      False  \n",
      "1       80       80     60           1      False  \n",
      "2      100      100     80           1      False  \n",
      "3      122      120     80           1      False  \n"
     ]
    }
   ],
   "source": [
    "# STR.CONTAINS\n",
    "\n",
    "print(df[df['Name'].str.contains('saur')])  # mando a schermo il df Name che contiene le lettere Saur"
   ]
  },
  {
   "cell_type": "code",
   "execution_count": 11,
   "metadata": {},
   "outputs": [
    {
     "name": "stdout",
     "output_type": "stream",
     "text": [
      "Empty DataFrame\n",
      "Columns: [#, Name, Type 1, Type 2, Total, HP, Attack, Defense, Sp. Atk, Sp. Def, Speed, Generation, Legendary]\n",
      "Index: []\n"
     ]
    }
   ],
   "source": [
    "# IN: il nome deve essere in (DENTRO) e la sintassi richiede ISIN \n",
    "\n",
    "# IN necessita di un filtro\n",
    "\n",
    "filter = ['Bulbasaur', 'Charmander','Squirtle']\n",
    "\n",
    "print(df[df['Name'].isin(filter)])\n",
    "\n"
   ]
  },
  {
   "cell_type": "code",
   "execution_count": 12,
   "metadata": {},
   "outputs": [
    {
     "name": "stdout",
     "output_type": "stream",
     "text": [
      "       #                   Name   Type 1    Type 2  Total   HP  Attack  \\\n",
      "163  150    MewtwoMega Mewtwo X  Psychic  Fighting    780  106     190   \n",
      "164  150    MewtwoMega Mewtwo Y  Psychic       NaN    780  106     150   \n",
      "422  382    KyogrePrimal Kyogre    Water       NaN    770  100     150   \n",
      "424  383  GroudonPrimal Groudon   Ground      Fire    770  100     180   \n",
      "426  384  RayquazaMega Rayquaza   Dragon    Flying    780  105     180   \n",
      "552  493                 Arceus   Normal       NaN    720  120     120   \n",
      "\n",
      "     Defense  Sp. Atk  Sp. Def  Speed  Generation  Legendary  \n",
      "163      100      154      100    130           1       True  \n",
      "164       70      194      120    140           1       True  \n",
      "422       90      180      160     90           3       True  \n",
      "424      160      150       90     90           3       True  \n",
      "426      100      180      100    115           3       True  \n",
      "552      120      120      120    120           4       True  \n"
     ]
    }
   ],
   "source": [
    "# MAGGIORE E MINORE\n",
    "\n",
    "# se abbiamo dei numeri possiamo utilizzare MAGGIORE E MINORE\n",
    "\n",
    "print(df[df['Total'] > 700])\n"
   ]
  },
  {
   "cell_type": "code",
   "execution_count": 25,
   "metadata": {},
   "outputs": [
    {
     "name": "stdout",
     "output_type": "stream",
     "text": [
      "       #                   Name   Type 1  Type 2  Total  HP  Attack  Defense  \\\n",
      "0      1              Bulbasaur    Grass  Poison    318  45      49       49   \n",
      "1      2                Ivysaur    Grass  Poison    405  60      62       63   \n",
      "2      3               Venusaur    Grass  Poison    525  80      82       83   \n",
      "3      3  VenusaurMega Venusaur    Grass  Poison    625  80     100      123   \n",
      "4      4             Charmander     Fire     NaN    309  39      52       43   \n",
      "..   ...                    ...      ...     ...    ...  ..     ...      ...   \n",
      "795  719                Diancie     Rock   Fairy    600  50     100      150   \n",
      "796  719    DiancieMega Diancie     Rock   Fairy    700  50     160      110   \n",
      "797  720    HoopaHoopa Confined  Psychic   Ghost    600  80     110       60   \n",
      "798  720     HoopaHoopa Unbound  Psychic    Dark    680  80     160       60   \n",
      "799  721              Volcanion     Fire   Water    600  80     110      120   \n",
      "\n",
      "     Sp. Atk  Sp. Def  Speed  Generation  Legendary  \n",
      "0         65       65     45           1      False  \n",
      "1         80       80     60           1      False  \n",
      "2        100      100     80           1      False  \n",
      "3        122      120     80           1      False  \n",
      "4         60       50     65           1      False  \n",
      "..       ...      ...    ...         ...        ...  \n",
      "795      100      150     50           6       True  \n",
      "796      160      110    110           6       True  \n",
      "797      150      130     70           6       True  \n",
      "798      170      130     80           6       True  \n",
      "799      130       90     70           6       True  \n",
      "\n",
      "[800 rows x 13 columns]\n"
     ]
    }
   ],
   "source": [
    "# TILDE: ~ (option + 5)\n",
    "\n",
    "# la tilde indica il contrario di ciò che abbiamo inserito\n",
    "\n",
    "print(df[~df['Total'] < 200])"
   ]
  },
  {
   "cell_type": "code",
   "execution_count": 27,
   "metadata": {},
   "outputs": [
    {
     "name": "stdout",
     "output_type": "stream",
     "text": [
      "       #                   Name   Type 1  Type 2  Total   HP  Attack  Defense  \\\n",
      "164  150    MewtwoMega Mewtwo Y  Psychic     NaN    780  106     150       70   \n",
      "422  382    KyogrePrimal Kyogre    Water     NaN    770  100     150       90   \n",
      "426  384  RayquazaMega Rayquaza   Dragon  Flying    780  105     180      100   \n",
      "\n",
      "     Sp. Atk  Sp. Def  Speed  Generation  Legendary  \n",
      "164      194      120    140           1       True  \n",
      "422      180      160     90           3       True  \n",
      "426      180      100    115           3       True  \n",
      "       #                   Name    Type 1    Type 2  Total   HP  Attack  \\\n",
      "13    10               Caterpie       Bug       NaN    195   45      30   \n",
      "14    11                Metapod       Bug       NaN    205   50      20   \n",
      "16    13                 Weedle       Bug    Poison    195   40      35   \n",
      "17    14                 Kakuna       Bug    Poison    205   45      25   \n",
      "46    41                  Zubat    Poison    Flying    245   40      45   \n",
      "139  129               Magikarp     Water       NaN    200   20      10   \n",
      "163  150    MewtwoMega Mewtwo X   Psychic  Fighting    780  106     190   \n",
      "164  150    MewtwoMega Mewtwo Y   Psychic       NaN    780  106     150   \n",
      "175  161                Sentret    Normal       NaN    215   35      46   \n",
      "186  172                  Pichu  Electric       NaN    205   20      40   \n",
      "187  173                 Cleffa     Fairy       NaN    218   50      25   \n",
      "188  174              Igglybuff    Normal     Fairy    210   90      30   \n",
      "189  175                 Togepi     Fairy       NaN    245   35      20   \n",
      "206  191                Sunkern     Grass       NaN    180   30      30   \n",
      "209  194                 Wooper     Water    Ground    210   55      45   \n",
      "255  236                Tyrogue  Fighting       NaN    210   35      35   \n",
      "284  261              Poochyena      Dark       NaN    220   35      55   \n",
      "286  263              Zigzagoon    Normal       NaN    240   38      30   \n",
      "288  265                Wurmple       Bug       NaN    195   45      45   \n",
      "289  266                Silcoon       Bug       NaN    205   50      35   \n",
      "291  268                Cascoon       Bug       NaN    205   50      35   \n",
      "293  270                  Lotad     Water     Grass    220   40      30   \n",
      "296  273                 Seedot     Grass       NaN    220   40      40   \n",
      "303  280                  Ralts   Psychic     Fairy    198   28      25   \n",
      "316  292               Shedinja       Bug     Ghost    236    1      90   \n",
      "317  293                Whismur    Normal       NaN    240   64      51   \n",
      "320  296               Makuhita  Fighting       NaN    237   72      60   \n",
      "322  298                Azurill    Normal     Fairy    190   50      20   \n",
      "381  349                 Feebas     Water       NaN    200   20      15   \n",
      "422  382    KyogrePrimal Kyogre     Water       NaN    770  100     150   \n",
      "424  383  GroudonPrimal Groudon    Ground      Fire    770  100     180   \n",
      "426  384  RayquazaMega Rayquaza    Dragon    Flying    780  105     180   \n",
      "441  396                 Starly    Normal    Flying    245   40      55   \n",
      "446  401              Kricketot       Bug       NaN    194   37      25   \n",
      "457  412                  Burmy       Bug       NaN    224   40      29   \n",
      "462  415                 Combee       Bug    Flying    244   30      30   \n",
      "488  440                Happiny    Normal       NaN    220  100       5   \n",
      "552  493                 Arceus    Normal       NaN    720  120     120   \n",
      "727  659               Bunnelby    Normal       NaN    237   38      36   \n",
      "732  664             Scatterbug       Bug       NaN    200   38      35   \n",
      "733  665                 Spewpa       Bug       NaN    213   45      22   \n",
      "790  714                 Noibat    Flying    Dragon    245   40      30   \n",
      "\n",
      "     Defense  Sp. Atk  Sp. Def  Speed  Generation  Legendary  \n",
      "13        35       20       20     45           1      False  \n",
      "14        55       25       25     30           1      False  \n",
      "16        30       20       20     50           1      False  \n",
      "17        50       25       25     35           1      False  \n",
      "46        35       30       40     55           1      False  \n",
      "139       55       15       20     80           1      False  \n",
      "163      100      154      100    130           1       True  \n",
      "164       70      194      120    140           1       True  \n",
      "175       34       35       45     20           2      False  \n",
      "186       15       35       35     60           2      False  \n",
      "187       28       45       55     15           2      False  \n",
      "188       15       40       20     15           2      False  \n",
      "189       65       40       65     20           2      False  \n",
      "206       30       30       30     30           2      False  \n",
      "209       45       25       25     15           2      False  \n",
      "255       35       35       35     35           2      False  \n",
      "284       35       30       30     35           3      False  \n",
      "286       41       30       41     60           3      False  \n",
      "288       35       20       30     20           3      False  \n",
      "289       55       25       25     15           3      False  \n",
      "291       55       25       25     15           3      False  \n",
      "293       30       40       50     30           3      False  \n",
      "296       50       30       30     30           3      False  \n",
      "303       25       45       35     40           3      False  \n",
      "316       45       30       30     40           3      False  \n",
      "317       23       51       23     28           3      False  \n",
      "320       30       20       30     25           3      False  \n",
      "322       40       20       40     20           3      False  \n",
      "381       20       10       55     80           3      False  \n",
      "422       90      180      160     90           3       True  \n",
      "424      160      150       90     90           3       True  \n",
      "426      100      180      100    115           3       True  \n",
      "441       30       30       30     60           4      False  \n",
      "446       41       25       41     25           4      False  \n",
      "457       45       29       45     36           4      False  \n",
      "462       42       30       42     70           4      False  \n",
      "488        5       15       65     30           4      False  \n",
      "552      120      120      120    120           4       True  \n",
      "727       38       32       36     57           6      False  \n",
      "732       40       27       25     35           6      False  \n",
      "733       60       27       30     29           6      False  \n",
      "790       35       45       40     55           6      False  \n"
     ]
    }
   ],
   "source": [
    "# && (and) e OR: su Pandas si indicano rispettivamente con & e | \n",
    "\n",
    "print(df[(df['Total'] > 700) & (df['Sp. Atk'] > 160)])  # importante l'uso delle parentesi, le cui condizioni va inserite in ulteriori parentesi tonde\n",
    "\n",
    "print(df[(df['Total'] > 700) | (df['Total'] < 250)]) "
   ]
  },
  {
   "cell_type": "code",
   "execution_count": 31,
   "metadata": {},
   "outputs": [
    {
     "name": "stdout",
     "output_type": "stream",
     "text": [
      "   #       Name Type 1  Type 2  Total  HP  Attack  Defense  Sp. Atk  Sp. Def  \\\n",
      "0  1  Bulbasaur  Grass  Poison    318  45      49       49       65       65   \n",
      "\n",
      "   Speed  Generation  Legendary  \n",
      "0     45           1      False  \n",
      "        Name  HP  Generation\n",
      "0  Bulbasaur  45           1\n",
      "                    Name  HP  Generation\n",
      "0              Bulbasaur  45           1\n",
      "1                Ivysaur  60           1\n",
      "2               Venusaur  80           1\n",
      "3  VenusaurMega Venusaur  80           1\n"
     ]
    }
   ],
   "source": [
    "# LOC: al cui interno si inserisce prima la nostra condizione e poi le colonne che vogliamo\n",
    "\n",
    "print(df.loc[(df.Name == 'Bulbasaur')])\n",
    "\n",
    "# e se voglio selezionare solo specifiche colonne\n",
    "print(df.loc[(df.Name == 'Bulbasaur'), ['Name', 'HP', 'Generation']])\n",
    "\n",
    "# LOC + str.contains \n",
    "print(df.loc[(df['Name'].str.contains('saur')), ['Name', 'HP', 'Generation']])"
   ]
  },
  {
   "cell_type": "code",
   "execution_count": 35,
   "metadata": {},
   "outputs": [
    {
     "name": "stdout",
     "output_type": "stream",
     "text": [
      "   #       Name Type 1  Type 2  Total  HP  Attack  Defense  Sp. Atk  Sp. Def  \\\n",
      "0  1  Bulbasaur  Grass  Poison    318  45      49       49       65       65   \n",
      "\n",
      "   Speed  Generation  Legendary  \n",
      "0     45           1      False  \n",
      "       #                   Name   Type 1    Type 2  Total   HP  Attack  \\\n",
      "163  150    MewtwoMega Mewtwo X  Psychic  Fighting    780  106     190   \n",
      "164  150    MewtwoMega Mewtwo Y  Psychic       NaN    780  106     150   \n",
      "426  384  RayquazaMega Rayquaza   Dragon    Flying    780  105     180   \n",
      "\n",
      "     Defense  Sp. Atk  Sp. Def  Speed  Generation  Legendary  \n",
      "163      100      154      100    130           1       True  \n",
      "164       70      194      120    140           1       True  \n",
      "426      100      180      100    115           3       True  \n"
     ]
    }
   ],
   "source": [
    "# QUERY \n",
    "\n",
    "print(df.query('Name == \"Bulbasaur\"'))\n",
    "\n",
    "print(df.query('Total > 750 and Speed > 100'))\n",
    "\n",
    "# in query NON SI POSSONO inserire le colonne con nome e spazio. Ad es. Sp. Atk deve essere tutto attaccato \n",
    "\n",
    "# inoltre in query AND e OR vanno scritti PER ESTESO"
   ]
  },
  {
   "cell_type": "code",
   "execution_count": null,
   "metadata": {},
   "outputs": [],
   "source": [
    "# Si può dire che LOC è scelto qualora dovessimo selezionare più colonne e ci permette di essere anche più veloce\n",
    "# Query diventa più facile se avessimo già tutte le colonne formattate come si deve"
   ]
  }
 ],
 "metadata": {
  "kernelspec": {
   "display_name": "Python 3",
   "language": "python",
   "name": "python3"
  },
  "language_info": {
   "codemirror_mode": {
    "name": "ipython",
    "version": 3
   },
   "file_extension": ".py",
   "mimetype": "text/x-python",
   "name": "python",
   "nbconvert_exporter": "python",
   "pygments_lexer": "ipython3",
   "version": "3.12.3"
  }
 },
 "nbformat": 4,
 "nbformat_minor": 2
}
